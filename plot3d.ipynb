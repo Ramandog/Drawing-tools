import matplotlib.pyplot as plt
from mpl_toolkits.mplot3d.axes3d import Axes3D
import copy
'''
X:SP矩阵
wavenumber:SP矩阵波数
Tloss:SP矩阵时间维度
n:SP显示间隔
'''
def d3(X, wavenumber, Tloss, n):
    sp = copy.deepcopy(X)
    x = copy.deepcopy(wavenumber)
    # 生成代表Y轴数据的列表
    T = copy.deepcopy(Tloss)
    X_num = len(x)

    ax = plt.figure(figsize=(20,10)).add_subplot(projection='3d')
    #结合for循环绘制多张线图
    for i in range(0,len(T), n):

        y = T[i]
        y=y*np.ones(X_num)#保证与x轴的点数一致，这一步非常重要
        z = sp[i, :]
        ax.plot(x,y,z, linewidth=1)

    # 图像的其他参数设置
    ax.view_init(15, -20)#图形展示角度
    ax.grid(False)#去掉网格
    ax.w_xaxis.set_pane_color((1.0, 1.0, 1.0, 1.0))#背景设置为白色
    ax.w_yaxis.set_pane_color((1.0, 1.0, 1.0, 1.0))
    ax.w_zaxis.set_pane_color((1.0, 1.0, 1.0, 1.0))
    #坐标及坐标轴相关设置
    ax.set_xlabel('wavenumber') #x轴坐标名称及字体样式
    ax.set_ylabel('Time') #x轴坐标名称及字体样式
    ax.set_zlabel('Intencity') #z轴坐标名称及字体样式
    #ax.set_xlim(0,20)#x轴范围
    #ax.set_zlim(0,40)
    ax.set_yticks(T) #y轴刻度字体大小
    plt.rcParams['figure.figsize']=(10,50)
    plt.rcParams['savefig.dpi'] = 200 #图片像素
    plt.rcParams['figure.dpi'] = 200 #分辨率
    plt.show()
